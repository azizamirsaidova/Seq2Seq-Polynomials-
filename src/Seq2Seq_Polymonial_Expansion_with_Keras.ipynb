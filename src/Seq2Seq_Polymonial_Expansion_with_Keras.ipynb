{
  "nbformat": 4,
  "nbformat_minor": 0,
  "metadata": {
    "colab": {
      "name": "Seq2Seq Polymonial Expansion with Keras.ipynb",
      "provenance": [],
      "collapsed_sections": [],
      "authorship_tag": "ABX9TyM2zdacwXE4scQl4ymStC0G",
      "include_colab_link": true
    },
    "kernelspec": {
      "name": "python3",
      "display_name": "Python 3"
    },
    "language_info": {
      "name": "python"
    },
    "accelerator": "GPU"
  },
  "cells": [
    {
      "cell_type": "markdown",
      "metadata": {
        "id": "view-in-github",
        "colab_type": "text"
      },
      "source": [
        "<a href=\"https://colab.research.google.com/github/azizamirsaidova/Seq2Seq-Polynomials-/blob/main/Seq2Seq_Polymonial_Expansion_with_Keras.ipynb\" target=\"_parent\"><img src=\"https://colab.research.google.com/assets/colab-badge.svg\" alt=\"Open In Colab\"/></a>"
      ]
    },
    {
      "cell_type": "markdown",
      "metadata": {
        "id": "UzELVTaL6hYw"
      },
      "source": [
        "**Deep learning model that learns to expand single variable polynomials by taking the factorized sequence and predicting the expanded sequence.**\n",
        "\n",
        "\n",
        "\n",
        "\n",
        "\n",
        "\n"
      ]
    },
    {
      "cell_type": "code",
      "metadata": {
        "id": "xlIjvLoEBlEQ"
      },
      "source": [
        "import numpy as np\n",
        "import pandas as pd\n",
        "import tensorflow as tf\n",
        "from tensorflow import keras"
      ],
      "execution_count": null,
      "outputs": []
    },
    {
      "cell_type": "code",
      "metadata": {
        "id": "aXt2y6SoByme"
      },
      "source": [
        "data = pd.read_csv('train.txt', sep=\" \", header=None)\n",
        "data[['cleaned_source', 'cleaned_target']] = data[0].str.split('=', 1, expand=True)\n",
        "data['cleaned_target'] = data['cleaned_target'].apply(lambda x: \"\\t\" + x + \"\\n\")"
      ],
      "execution_count": null,
      "outputs": []
    },
    {
      "cell_type": "code",
      "metadata": {
        "colab": {
          "base_uri": "https://localhost:8080/"
        },
        "id": "-s_WEwAxCGjW",
        "outputId": "e762cb36-08a4-487b-9cf7-987f9accec27"
      },
      "source": [
        "data['cleaned_source'].head()"
      ],
      "execution_count": null,
      "outputs": [
        {
          "output_type": "execute_result",
          "data": {
            "text/plain": [
              "0    (7-3*z)*(-5*z-9)\n",
              "1             -9*s**2\n",
              "2       (2-2*n)*(n-1)\n",
              "3                x**2\n",
              "4        (4-x)*(x-23)\n",
              "Name: cleaned_source, dtype: object"
            ]
          },
          "metadata": {},
          "execution_count": 4
        }
      ]
    },
    {
      "cell_type": "code",
      "metadata": {
        "colab": {
          "base_uri": "https://localhost:8080/"
        },
        "id": "JP7K2e-ACTJW",
        "outputId": "b7d980bf-ece6-45cc-b843-7c4f10e77d22"
      },
      "source": [
        "data['cleaned_target'].head()"
      ],
      "execution_count": null,
      "outputs": [
        {
          "output_type": "execute_result",
          "data": {
            "text/plain": [
              "0    \\t15*z**2-8*z-63\\n\n",
              "1           \\t-9*s**2\\n\n",
              "2     \\t-2*n**2+4*n-2\\n\n",
              "3              \\tx**2\\n\n",
              "4     \\t-x**2+27*x-92\\n\n",
              "Name: cleaned_target, dtype: object"
            ]
          },
          "metadata": {},
          "execution_count": 5
        }
      ]
    },
    {
      "cell_type": "code",
      "metadata": {
        "id": "XkCc7UagCXPs"
      },
      "source": [
        "with open('train.txt', \"r\", encoding=\"utf-8\") as f:\n",
        "    lines = f.read().split(\"\\n\")"
      ],
      "execution_count": null,
      "outputs": []
    },
    {
      "cell_type": "code",
      "metadata": {
        "id": "kblO4aneEgKa"
      },
      "source": [
        "lines = lines[0:100000]"
      ],
      "execution_count": null,
      "outputs": []
    },
    {
      "cell_type": "code",
      "metadata": {
        "id": "YbeWW9iKDGfx"
      },
      "source": [
        "# Vectorize the data.\n",
        "input_texts = []\n",
        "target_texts = []\n",
        "input_characters = set()\n",
        "target_characters = set()\n",
        "\n",
        "for line in lines:\n",
        "    if line != '':\n",
        "      input_text, target_text = line.split(\"=\")\n",
        "      # for the targets, and \"\\n\" as \"end sequence\" character.\n",
        "      target_text = \"\\t\" + target_text + \"\\n\"\n",
        "      input_texts.append(input_text)\n",
        "      target_texts.append(target_text)\n",
        "      for char in input_text:\n",
        "          if char not in input_characters:\n",
        "              input_characters.add(char)\n",
        "      for char in target_text:\n",
        "          if char not in target_characters:\n",
        "              target_characters.add(char)"
      ],
      "execution_count": null,
      "outputs": []
    },
    {
      "cell_type": "code",
      "metadata": {
        "colab": {
          "base_uri": "https://localhost:8080/"
        },
        "id": "QnvYuhw-C7_x",
        "outputId": "08ba32bd-60a7-4db6-fae4-2e8790952dd5"
      },
      "source": [
        "input_characters = sorted(list(input_characters))\n",
        "target_characters = sorted(list(target_characters))\n",
        "num_encoder_tokens = len(input_characters)\n",
        "num_decoder_tokens = len(target_characters)\n",
        "max_encoder_seq_length = max([len(txt) for txt in input_texts])\n",
        "max_decoder_seq_length = max([len(txt) for txt in target_texts])\n",
        "\n",
        "print(\"Number of samples:\", len(input_texts))\n",
        "print(\"Number of unique input tokens:\", num_encoder_tokens)\n",
        "print(\"Number of unique output tokens:\", num_decoder_tokens)\n",
        "print(\"Max sequence length for inputs:\", max_encoder_seq_length)\n",
        "print(\"Max sequence length for outputs:\", max_decoder_seq_length)"
      ],
      "execution_count": null,
      "outputs": [
        {
          "output_type": "stream",
          "name": "stdout",
          "text": [
            "Number of samples: 100000\n",
            "Number of unique input tokens: 28\n",
            "Number of unique output tokens: 30\n",
            "Max sequence length for inputs: 29\n",
            "Max sequence length for outputs: 30\n"
          ]
        }
      ]
    },
    {
      "cell_type": "code",
      "metadata": {
        "id": "bOZy8V3hENAy"
      },
      "source": [
        "input_token_index = dict([(char, i) for i, char in enumerate(input_characters)])\n",
        "input_token_index[\" \"] = len(input_token_index)\n",
        "target_token_index = dict([(char, i) for i, char in enumerate(target_characters)])\n",
        "target_token_index[\" \"] = len(target_token_index)\n",
        "\n",
        "encoder_input_data = np.zeros(\n",
        "    (len(input_texts), max_encoder_seq_length, num_encoder_tokens), dtype=\"float32\"\n",
        ")\n",
        "decoder_input_data = np.zeros(\n",
        "    (len(input_texts), max_decoder_seq_length, num_decoder_tokens), dtype=\"float32\"\n",
        ")\n",
        "decoder_target_data = np.zeros(\n",
        "    (len(input_texts), max_decoder_seq_length, num_decoder_tokens), dtype=\"float32\"\n",
        ")\n",
        "\n",
        "for i, (input_text, target_text) in enumerate(zip(input_texts, target_texts)):\n",
        "    for t, char in enumerate(input_text):\n",
        "        encoder_input_data[i, t, input_token_index[char]] = 1.0\n",
        "    # encoder_input_data[i, t + 1 :, input_token_index[\" \"]] = 1.0\n",
        "    for t, char in enumerate(target_text):\n",
        "        # decoder_target_data is ahead of decoder_input_data by one timestep\n",
        "        decoder_input_data[i, t, target_token_index[char]] = 1.0\n",
        "        if t > 0:\n",
        "            # decoder_target_data will be ahead by one timestep\n",
        "            # and will not include the start character.\n",
        "            decoder_target_data[i, t - 1, target_token_index[char]] = 1.0\n",
        "    # decoder_input_data[i, t + 1 :, target_token_index[\" \"]] = 1.0\n",
        "    # decoder_target_data[i, t:, target_token_index[\" \"]] = 1.0\n"
      ],
      "execution_count": null,
      "outputs": []
    },
    {
      "cell_type": "code",
      "metadata": {
        "colab": {
          "base_uri": "https://localhost:8080/"
        },
        "id": "S5IzNvk2Eq0y",
        "outputId": "3d973d61-7731-4701-9b60-aa7fe339fc49"
      },
      "source": [
        "decoder_target_data[0][0]"
      ],
      "execution_count": null,
      "outputs": [
        {
          "output_type": "execute_result",
          "data": {
            "text/plain": [
              "array([0., 0., 0., 0., 0., 0., 0., 0., 1., 0., 0., 0., 0., 0., 0., 0., 0.,\n",
              "       0., 0., 0., 0., 0., 0., 0., 0., 0., 0., 0., 0., 0.], dtype=float32)"
            ]
          },
          "metadata": {},
          "execution_count": 11
        }
      ]
    },
    {
      "cell_type": "code",
      "metadata": {
        "id": "Z29o4LDsGrLH"
      },
      "source": [
        "batch_size = 64  # Batch size for training.\n",
        "epochs = 100  # Number of epochs to train for.\n",
        "latent_dim = 256  # Latent dimensionality of the encoding space.\n",
        "\n",
        "# Define an input sequence and process it.\n",
        "encoder_inputs = keras.Input(shape=(None, num_encoder_tokens))\n",
        "encoder = keras.layers.LSTM(latent_dim, return_state=True)\n",
        "encoder_outputs, state_h, state_c = encoder(encoder_inputs)\n",
        "\n",
        "# We discard `encoder_outputs` and only keep the states.\n",
        "encoder_states = [state_h, state_c]\n",
        "\n",
        "# Set up the decoder, using `encoder_states` as initial state.\n",
        "decoder_inputs = keras.Input(shape=(None, num_decoder_tokens))\n",
        "\n",
        "# We set up our decoder to return full output sequences,\n",
        "# and to return internal states as well. We don't use the\n",
        "# return states in the training model, but we will use them in inference.\n",
        "decoder_lstm = keras.layers.LSTM(latent_dim, return_sequences=True, return_state=True)\n",
        "decoder_outputs, _, _ = decoder_lstm(decoder_inputs, initial_state=encoder_states)\n",
        "decoder_dense = keras.layers.Dense(num_decoder_tokens, activation=\"softmax\")\n",
        "decoder_outputs = decoder_dense(decoder_outputs)\n",
        "\n",
        "# Define the model that will turn\n",
        "# `encoder_input_data` & `decoder_input_data` into `decoder_target_data`\n",
        "model = keras.Model([encoder_inputs, decoder_inputs], decoder_outputs)\n"
      ],
      "execution_count": null,
      "outputs": []
    },
    {
      "cell_type": "code",
      "metadata": {
        "colab": {
          "base_uri": "https://localhost:8080/"
        },
        "id": "MPfziQ-cG032",
        "outputId": "d8d690b4-49ee-48a7-fc9b-7f47a43a846e"
      },
      "source": [
        "model.summary()"
      ],
      "execution_count": null,
      "outputs": [
        {
          "output_type": "stream",
          "name": "stdout",
          "text": [
            "Model: \"model\"\n",
            "__________________________________________________________________________________________________\n",
            " Layer (type)                   Output Shape         Param #     Connected to                     \n",
            "==================================================================================================\n",
            " input_1 (InputLayer)           [(None, None, 28)]   0           []                               \n",
            "                                                                                                  \n",
            " input_2 (InputLayer)           [(None, None, 30)]   0           []                               \n",
            "                                                                                                  \n",
            " lstm (LSTM)                    [(None, 256),        291840      ['input_1[0][0]']                \n",
            "                                 (None, 256),                                                     \n",
            "                                 (None, 256)]                                                     \n",
            "                                                                                                  \n",
            " lstm_1 (LSTM)                  [(None, None, 256),  293888      ['input_2[0][0]',                \n",
            "                                 (None, 256),                     'lstm[0][1]',                   \n",
            "                                 (None, 256)]                     'lstm[0][2]']                   \n",
            "                                                                                                  \n",
            " dense (Dense)                  (None, None, 30)     7710        ['lstm_1[0][0]']                 \n",
            "                                                                                                  \n",
            "==================================================================================================\n",
            "Total params: 593,438\n",
            "Trainable params: 593,438\n",
            "Non-trainable params: 0\n",
            "__________________________________________________________________________________________________\n"
          ]
        }
      ]
    },
    {
      "cell_type": "code",
      "metadata": {
        "colab": {
          "base_uri": "https://localhost:8080/"
        },
        "id": "hVwRK6SWHDFN",
        "outputId": "133f497b-e4e1-4e9a-bed6-1e66a37c3853"
      },
      "source": [
        "model.compile(\n",
        "    optimizer=\"rmsprop\", loss=\"categorical_crossentropy\", metrics=[\"accuracy\"]\n",
        ")\n",
        "model.fit(\n",
        "    [encoder_input_data, decoder_input_data],\n",
        "    decoder_target_data,\n",
        "    batch_size=batch_size,\n",
        "    epochs=5,\n",
        "    validation_split=0.2,\n",
        ")\n",
        "# Save model\n",
        "model.save(\"s2s\")\n"
      ],
      "execution_count": null,
      "outputs": [
        {
          "output_type": "stream",
          "name": "stdout",
          "text": [
            "Epoch 1/5\n",
            "1250/1250 [==============================] - 49s 34ms/step - loss: 0.9834 - accuracy: 0.2264 - val_loss: 0.7720 - val_accuracy: 0.2754\n",
            "Epoch 2/5\n",
            "1250/1250 [==============================] - 40s 32ms/step - loss: 0.7155 - accuracy: 0.2991 - val_loss: 0.6539 - val_accuracy: 0.3172\n",
            "Epoch 3/5\n",
            "1250/1250 [==============================] - 39s 31ms/step - loss: 0.5823 - accuracy: 0.3467 - val_loss: 0.5338 - val_accuracy: 0.3631\n",
            "Epoch 4/5\n",
            "1250/1250 [==============================] - 41s 33ms/step - loss: 0.5094 - accuracy: 0.3738 - val_loss: 0.4694 - val_accuracy: 0.3891\n",
            "Epoch 5/5\n",
            "1250/1250 [==============================] - 40s 32ms/step - loss: 0.4583 - accuracy: 0.3936 - val_loss: 0.4321 - val_accuracy: 0.3990\n"
          ]
        },
        {
          "output_type": "stream",
          "name": "stderr",
          "text": [
            "WARNING:absl:Found untraced functions such as lstm_cell_layer_call_fn, lstm_cell_layer_call_and_return_conditional_losses, lstm_cell_1_layer_call_fn, lstm_cell_1_layer_call_and_return_conditional_losses, lstm_cell_layer_call_fn while saving (showing 5 of 10). These functions will not be directly callable after loading.\n"
          ]
        },
        {
          "output_type": "stream",
          "name": "stdout",
          "text": [
            "INFO:tensorflow:Assets written to: s2s/assets\n"
          ]
        },
        {
          "output_type": "stream",
          "name": "stderr",
          "text": [
            "INFO:tensorflow:Assets written to: s2s/assets\n",
            "WARNING:absl:<keras.layers.recurrent.LSTMCell object at 0x7f1dd77f7b10> has the same name 'LSTMCell' as a built-in Keras object. Consider renaming <class 'keras.layers.recurrent.LSTMCell'> to avoid naming conflicts when loading with `tf.keras.models.load_model`. If renaming is not possible, pass the object in the `custom_objects` parameter of the load function.\n",
            "WARNING:absl:<keras.layers.recurrent.LSTMCell object at 0x7f1dda0fc910> has the same name 'LSTMCell' as a built-in Keras object. Consider renaming <class 'keras.layers.recurrent.LSTMCell'> to avoid naming conflicts when loading with `tf.keras.models.load_model`. If renaming is not possible, pass the object in the `custom_objects` parameter of the load function.\n"
          ]
        }
      ]
    },
    {
      "cell_type": "code",
      "metadata": {
        "id": "zxsfrbXHHO-d"
      },
      "source": [
        "# Define sampling models\n",
        "# Restore the model and construct the encoder and decoder.\n",
        "model = keras.models.load_model(\"s2s\")\n",
        "\n",
        "encoder_inputs = model.input[0]  # input_1\n",
        "encoder_outputs, state_h_enc, state_c_enc = model.layers[2].output  # lstm_1\n",
        "encoder_states = [state_h_enc, state_c_enc]\n",
        "encoder_model = keras.Model(encoder_inputs, encoder_states)\n",
        "\n",
        "decoder_inputs = model.input[1]  # input_2\n",
        "decoder_state_input_h = keras.Input(shape=(latent_dim,))\n",
        "decoder_state_input_c = keras.Input(shape=(latent_dim,))\n",
        "decoder_states_inputs = [decoder_state_input_h, decoder_state_input_c]\n",
        "decoder_lstm = model.layers[3]\n",
        "decoder_outputs, state_h_dec, state_c_dec = decoder_lstm(\n",
        "    decoder_inputs, initial_state=decoder_states_inputs\n",
        ")\n",
        "decoder_states = [state_h_dec, state_c_dec]\n",
        "decoder_dense = model.layers[4]\n",
        "decoder_outputs = decoder_dense(decoder_outputs)\n",
        "decoder_model = keras.Model(\n",
        "    [decoder_inputs] + decoder_states_inputs, [decoder_outputs] + decoder_states\n",
        ")\n",
        "\n",
        "# Reverse-lookup token index to decode sequences back to\n",
        "# something readable.\n",
        "reverse_input_char_index = dict((i, char) for char, i in input_token_index.items())\n",
        "reverse_target_char_index = dict((i, char) for char, i in target_token_index.items())\n",
        "\n",
        "\n",
        "def decode_sequence(input_seq):\n",
        "    # Encode the input as state vectors.\n",
        "    states_value = encoder_model.predict(input_seq)\n",
        "\n",
        "    # Generate empty target sequence of length 1.\n",
        "    target_seq = np.zeros((1, 1, num_decoder_tokens))\n",
        "    # Populate the first character of target sequence with the start character.\n",
        "    target_seq[0, 0, target_token_index[\"\\t\"]] = 1.0\n",
        "\n",
        "    # Sampling loop for a batch of sequences\n",
        "    # (to simplify, here we assume a batch of size 1).\n",
        "    stop_condition = False\n",
        "    decoded_sentence = \"\"\n",
        "    while not stop_condition:\n",
        "        output_tokens, h, c = decoder_model.predict([target_seq] + states_value)\n",
        "\n",
        "        # Sample a token\n",
        "        sampled_token_index = np.argmax(output_tokens[0, -1, :])\n",
        "        sampled_char = reverse_target_char_index[sampled_token_index]\n",
        "        decoded_sentence += sampled_char\n",
        "\n",
        "        # Exit condition: either hit max length\n",
        "        # or find stop character.\n",
        "        if sampled_char == \"\\n\" or len(decoded_sentence) > max_decoder_seq_length:\n",
        "            stop_condition = True\n",
        "\n",
        "        # Update the target sequence (of length 1).\n",
        "        target_seq = np.zeros((1, 1, num_decoder_tokens))\n",
        "        target_seq[0, 0, sampled_token_index] = 1.0\n",
        "\n",
        "        # Update states\n",
        "        states_value = [h, c]\n",
        "    return decoded_sentence\n",
        "\n"
      ],
      "execution_count": null,
      "outputs": []
    },
    {
      "cell_type": "code",
      "metadata": {
        "colab": {
          "base_uri": "https://localhost:8080/"
        },
        "id": "lR7dyJ1iHYpr",
        "outputId": "1bf767b1-c382-4c47-b760-6bbab658ceb1"
      },
      "source": [
        "for seq_index in range(20):\n",
        "    # Take one sequence (part of the training set)\n",
        "    # for trying out decoding.\n",
        "    input_seq = encoder_input_data[seq_index : seq_index + 1]\n",
        "    decoded_sentence = decode_sequence(input_seq)\n",
        "    print(\"-\")\n",
        "    print(\"Input sentence:\", input_texts[seq_index])\n",
        "    print(\"Decoded sentence:\", decoded_sentence)\n",
        "    print(\"Target sentence:\", target_texts[seq_index][1:-1])\n"
      ],
      "execution_count": null,
      "outputs": [
        {
          "output_type": "stream",
          "name": "stdout",
          "text": [
            "-\n",
            "Input sentence: (7-3*z)*(-5*z-9)\n",
            "Decoded sentence: 15*z**2-11*z-10\n",
            "\n",
            "Target sentence: 15*z**2-8*z-63\n",
            "-\n",
            "Input sentence: -9*s**2\n",
            "Decoded sentence: -9*s**2\n",
            "\n",
            "Target sentence: -9*s**2\n",
            "-\n",
            "Input sentence: (2-2*n)*(n-1)\n",
            "Decoded sentence: -2*n**2+13*n-10\n",
            "\n",
            "Target sentence: -2*n**2+4*n-2\n",
            "-\n",
            "Input sentence: x**2\n",
            "Decoded sentence: x**2\n",
            "\n",
            "Target sentence: x**2\n",
            "-\n",
            "Input sentence: (4-x)*(x-23)\n",
            "Decoded sentence: -x**2+23*x-10\n",
            "\n",
            "Target sentence: -x**2+27*x-92\n",
            "-\n",
            "Input sentence: (7-5*c)*(3*c-17)\n",
            "Decoded sentence: -15*c**2+115*c-10\n",
            "\n",
            "Target sentence: -15*c**2+106*c-119\n",
            "-\n",
            "Input sentence: -8*x*(3*x+14)\n",
            "Decoded sentence: -24*x**2-100*x\n",
            "\n",
            "Target sentence: -24*x**2-112*x\n",
            "-\n",
            "Input sentence: -2*k*(5*k-9)\n",
            "Decoded sentence: -10*k**2+20*k\n",
            "\n",
            "Target sentence: -10*k**2+18*k\n",
            "-\n",
            "Input sentence: (3*cos(c)-19)*(7*cos(c)+13)\n",
            "Decoded sentence: 15*cos(n)**2+126*cos(n)-1\n",
            "\n",
            "Target sentence: 21*cos(c)**2-94*cos(c)-247\n",
            "-\n",
            "Input sentence: -8*j*(-8*j-3)\n",
            "Decoded sentence: 48*j**2+16*j\n",
            "\n",
            "Target sentence: 64*j**2+24*j\n",
            "-\n",
            "Input sentence: (h+8)*(7*h-3)\n",
            "Decoded sentence: 7*h**2+2*h-10\n",
            "\n",
            "Target sentence: 7*h**2+53*h-24\n",
            "-\n",
            "Input sentence: 18*h**2\n",
            "Decoded sentence: 18*h**2\n",
            "\n",
            "Target sentence: 18*h**2\n",
            "-\n",
            "Input sentence: 7*y*(-7*y-21)\n",
            "Decoded sentence: -49*y**2-110*y\n",
            "\n",
            "Target sentence: -49*y**2-147*y\n",
            "-\n",
            "Input sentence: (-6*n-6)*(4*n-22)\n",
            "Decoded sentence: -24*n**2+140*n+10\n",
            "\n",
            "Target sentence: -24*n**2+108*n+132\n",
            "-\n",
            "Input sentence: (y-16)*(2*y+23)\n",
            "Decoded sentence: 2*y**2-4*y-10\n",
            "\n",
            "Target sentence: 2*y**2-9*y-368\n",
            "-\n",
            "Input sentence: 2*n*(30-9*n)\n",
            "Decoded sentence: -18*n**2+12*n\n",
            "\n",
            "Target sentence: -18*n**2+60*n\n",
            "-\n",
            "Input sentence: (h-28)*(5*h-14)\n",
            "Decoded sentence: 5*h**2-135*h+20\n",
            "\n",
            "Target sentence: 5*h**2-154*h+392\n",
            "-\n",
            "Input sentence: (7-5*k)*(k+2)\n",
            "Decoded sentence: -5*k**2-11*k+10\n",
            "\n",
            "Target sentence: -5*k**2-3*k+14\n",
            "-\n",
            "Input sentence: (-x-8)*(x+10)\n",
            "Decoded sentence: -x**2-23*x-10\n",
            "\n",
            "Target sentence: -x**2-18*x-80\n",
            "-\n",
            "Input sentence: i*(24-7*i)\n",
            "Decoded sentence: -7*i**2+20*i\n",
            "\n",
            "Target sentence: -7*i**2+24*i\n"
          ]
        }
      ]
    }
  ]
}